# from keras.models import Model, load_model
from keras.layers import Conv2D
from keras.layers import Dropout, Flatten, Dense, Input 
from keras.callbacks import ModelCheckpoint, EarlyStopping

class KerasPilot:
    def load(self,model_path):
        self.model = load_model(mode_path)
        
    def shutdown(self): 
        pass
    
    def train(self, train_gen, val_gen,
              saved_model_path, epochs=100, steps=100, train_split=0.8,
              verbose=1, min_delta=.0005, patience=5, use_early_stop=True):
        
        """
        Train_gen: generator that yields an array of images an array of
        """

        # checkpoint to save model after each epoch
        # Checkpoints are the weights of the model
        save_best = ModelCheckpoint(saved_model_path, 
                                    monitor = 'Val_loss', 
                                    verbose = verbose, 
                                    save_best_only = True, 
                                    mode = 'min') 
        
        #Stop training when monitored quantity(val_loss) stops improving.
        early_stop = EarlyStopping(monitor = 'val_loss',
                                   min_delta = min_delta, 
                                   patience  =patience,
                                   verbose = verbose,
                                   mode = 'auto')
        #list of check points
        callbacks_list = [save_best]
        
        if(use_early_stop): 
            callbacks_list.append(early_stop)
        
        #Trains the model on data generated batch-by-batch by a Python generator (or an instance of Sequence).
        #DOC -----> https://keras.io/models/sequential/
        hist = self.model.fit_generator(train_gen,
                                       steps_per_epoch = steps,
                                       epochs = epochs,
                                       verbose = verbose,
                                       validation_data = val_gen,
                                       callbacks = callbacks_list,
                                       validation_steps = steps * (1.0 - train_split) / train_split)
        return hist
    
    class KerasLinear(KerasPilot):
        def __init__(self, model=None, num_outputs=None, *args, **kwargs):
            super (KerasLinear, self).__init__(*args, **kwargs)
            
            if model: 
                self.model = model
            elif num_outputs is not None: 
                self.model = default_linear()
            else:
                self.model = default_linear()

            
        def run(self, img_arr):
            img_arr = img_arr.reshape((1,) + img_arr.shape)
            outputs = self.model.predict(img_arr)
            
            # print(len(outputs), outputs)
            steering = outputs[0]
            throttle = outputs[1]
            
            return steering[0][0], throttle[0][0] 
        
        
        def run(self, img_arr):
            img_arr = img_arr.reshape((1,) + img_arr.shape)
            outputs = self.model.predict(img_arr)
            # print(len(outputs), outputs)
            steering = outputs[0]
            throttle = outputs[1]
            return steering[0][0], throttle[0][0]
        
        def default_linear():
            img_in = Input(shape=(120, 160, 3), name = 'img_in')
            x = img_in
            #DOC ------>https://keras.io/layers/convolutional/
            x = convolution2D(24, (5,5), strides = (2,2), activation = 'relu')(x)
            x = convolution2D(32, (5,5), strides = (2,2), activation = 'relu')(x)
            x = convolution2D(64, (5,5), strides = (2,2), activation = 'relu')(x)
            x = convolution2D(64, (3,3), strides = (2,2), activation = 'relu')(x)
            x = convolution2D(64, (3,3), strides = (1,1), activation = 'relu')(x)

            x = Flatten(name = 'flattened')(x)
            x = Dropout(.1)(x)
            x = Dense(100, activation = 'linear')(x)
            x = Dropout(.1)(x)
            # categorical output of the angle
            angle_out = Dense(1, activation='linear', name='angle_out')(x)
            
            
            
            x = Flatten(name='flattened')(x)
            x = Dense(100, activation='linear')(x)
            x = Dropout(.1)(x)
            x = Dense(50, activation='linear')(x)
            #Dropout consists in randomly setting a fraction rate of input units
            #to 0 at each update during training time, which helps prevent overfitting.
            x = Dropout(.1)(x)
            # categorical output of the angle
            angle_out = Dense(1, activation='linear', name='angle_out')(x)


            # continous output of throttle
            throttle_out = Dense(1, activation='linear', name='throttle_out')(x)

            model = Model(inputs=[img_in], outputs=[angle_out, throttle_out])

            #Configures the model for training.
            model.compile(optimizer='adam',
                          loss={'angle_out': 'mean_squared_error',
                                'throttle_out': 'mean_squared_error'},
                          loss_weights={'angle_out': 0.5, 'throttle_out': .5})

            return model
